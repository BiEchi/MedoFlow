{
 "cells": [
  {
   "cell_type": "code",
   "execution_count": 1,
   "metadata": {},
   "outputs": [],
   "source": [
    "import sys\n",
    "sys.path.append('/Users/mac/Desktop/Courses/Course23SP/MedoFlow/assignment2-2018/python')\n",
    "\n",
    "import numpy as np\n",
    "import argparse\n",
    "import six.moves.cPickle as pickle\n",
    "import gzip\n",
    "import os\n",
    "import time\n",
    "from tqdm import tqdm\n",
    "\n",
    "import tvm\n",
    "from dlsys import autodiff as ad\n",
    "from dlsys import tvm_op\n",
    "\n",
    "import warnings\n",
    "warnings.filterwarnings(\"ignore\")"
   ]
  },
  {
   "cell_type": "code",
   "execution_count": 2,
   "metadata": {},
   "outputs": [],
   "source": [
    "tgt = \"llvm\"\n",
    "tgt_host = \"llvm\"\n",
    "\n",
    "# create context object\n",
    "executor_ctx = tvm.device(tgt, 0)\n",
    "\n",
    "print_loss_val_each_epoch = True\n",
    "num_epochs = 10\n",
    "\n",
    "def convert_to_one_hot(vals):\n",
    "    \"\"\"Helper method to convert label array to one-hot array.\"\"\"\n",
    "    one_hot_vals = np.zeros((vals.size, 10))\n",
    "    one_hot_vals[np.arange(vals.size), vals] = 1\n",
    "    return one_hot_vals\n"
   ]
  },
  {
   "cell_type": "code",
   "execution_count": null,
   "metadata": {},
   "outputs": [],
   "source": [
    "W1 = ad.Variable(name='W1')\n",
    "\n",
    "X = ad.Variable(name='X')\n",
    "y_ = ad.Variable(name='y_')\n",
    "\n",
    "y = ad.conv2d_op(X, W1)\n",
    "\n",
    "loss = ad.softmax_cross_entropy_with_logits_op(y, y_)\n",
    "grad_W1 = ad.gradients(loss, [W1])[0]\n",
    "executor = ad.Executor([loss, grad_W1, y], ctx=executor_ctx)\n",
    "\n"
   ]
  }
 ],
 "metadata": {
  "kernelspec": {
   "display_name": "medoflow",
   "language": "python",
   "name": "python3"
  },
  "language_info": {
   "codemirror_mode": {
    "name": "ipython",
    "version": 3
   },
   "file_extension": ".py",
   "mimetype": "text/x-python",
   "name": "python",
   "nbconvert_exporter": "python",
   "pygments_lexer": "ipython3",
   "version": "3.9.16"
  },
  "orig_nbformat": 4
 },
 "nbformat": 4,
 "nbformat_minor": 2
}
