{
 "cells": [
  {
   "cell_type": "code",
   "execution_count": 1,
   "metadata": {},
   "outputs": [],
   "source": [
    "import numpy as np\n",
    "from tqdm import tqdm"
   ]
  },
  {
   "cell_type": "code",
   "execution_count": 2,
   "metadata": {},
   "outputs": [],
   "source": [
    "def np_conv2d_grad(dout, cache):\n",
    "    \"\"\"\n",
    "    A naive implementation of the backward pass for a convolutional layer.\n",
    "\n",
    "    Inputs:\n",
    "    - dout: Upstream derivatives.\n",
    "    - cache: A tuple of (x, w, conv_param)\n",
    "\n",
    "    Returns a tuple of:\n",
    "    - dx: Gradient with respect to x\n",
    "    - dw: Gradient with respect to w\n",
    "    \"\"\"\n",
    "    \n",
    "    dx, dw = None, None\n",
    "    \n",
    "    x, w, conv_param = cache\n",
    "    pad = conv_param['pad'] # always 0\n",
    "    assert pad == 0, \"Current implementation only supports pad = 0\"\n",
    "    stride = conv_param['stride'] # always 1\n",
    "    assert stride == 1, \"Current implementation only supports stride = 1\"\n",
    "    \n",
    "    dx = np.zeros_like(x)\n",
    "    dw = np.zeros_like(w)\n",
    "    \n",
    "    N, C, H, W = x.shape\n",
    "    M, _, R, S = w.shape\n",
    "    _, _, HO, WO = dout.shape\n",
    "    \n",
    "    for n in range(N):      \n",
    "        for m in range(M):  \n",
    "            for i in range(HO):\n",
    "                for j in range(WO):\n",
    "                    for r in range(R):\n",
    "                        for s in range(S):\n",
    "                            for c in range(C): \n",
    "                                dw[m,c,r,s] += x[n,c,stride*i+r,stride*j+s] * dout[n,m,i,j]\n",
    "                  \n",
    "    # both works\n",
    "    for n in range(N):      \n",
    "        for m in range(M):  \n",
    "            for i in range(HO):\n",
    "                for j in range(WO):\n",
    "                    for r in range(R):\n",
    "                        for s in range(S):\n",
    "                            for c in range(C): \n",
    "                                dx[n,c,stride*i+r,stride*j+s] += w[m,c,r,s] * dout[n,m,i,j]\n",
    "                                \n",
    "    # for n in range(N):\n",
    "    #     for m in range(M):\n",
    "    #         for i in range(HO):\n",
    "    #             for j in range(WO):\n",
    "    #                 h1 = i * stride\n",
    "    #                 h2 = i * stride + R\n",
    "    #                 w1 = j * stride\n",
    "    #                 w2 = j * stride + S\n",
    "    #                 dx[n, :, h1:h2, w1:w2] += w[m,:,:,:] * dout[n,m,i,j]\n",
    "    \n",
    "    return dx, dw\n"
   ]
  },
  {
   "cell_type": "code",
   "execution_count": 3,
   "metadata": {},
   "outputs": [
    {
     "name": "stdout",
     "output_type": "stream",
     "text": [
      "True\n",
      "True\n"
     ]
    }
   ],
   "source": [
    "x = np.random.randn(2, 3, 5, 5)\n",
    "w = np.random.randn(3, 3, 3, 3)\n",
    "dout = np.random.randn(2, 3, 3, 3)\n",
    "conv_param = {'stride': 1, 'pad': 0}\n",
    "\n",
    "dx, dw = np_conv2d_grad(dout, (x, w, conv_param))\n",
    "\n",
    "import torch\n",
    "# convert numpy array to torch tensor\n",
    "x = torch.from_numpy(x)\n",
    "w = torch.from_numpy(w)\n",
    "dout = torch.from_numpy(dout)\n",
    "\n",
    "grad_input = torch.nn.grad.conv2d_input(x.shape, w, dout, stride=1, padding=0)\n",
    "grad_weight = torch.nn.grad.conv2d_weight(x, w.shape, dout, stride=1, padding=0)\n",
    "\n",
    "# assert whether grad_input == dx, etc.\n",
    "print(np.allclose(grad_input, dx))\n",
    "print(np.allclose(grad_weight, dw))"
   ]
  },
  {
   "cell_type": "code",
   "execution_count": null,
   "metadata": {},
   "outputs": [],
   "source": []
  },
  {
   "cell_type": "code",
   "execution_count": null,
   "metadata": {},
   "outputs": [],
   "source": []
  }
 ],
 "metadata": {
  "kernelspec": {
   "display_name": "medoflow",
   "language": "python",
   "name": "python3"
  },
  "language_info": {
   "codemirror_mode": {
    "name": "ipython",
    "version": 3
   },
   "file_extension": ".py",
   "mimetype": "text/x-python",
   "name": "python",
   "nbconvert_exporter": "python",
   "pygments_lexer": "ipython3",
   "version": "3.9.16"
  },
  "orig_nbformat": 4
 },
 "nbformat": 4,
 "nbformat_minor": 2
}
