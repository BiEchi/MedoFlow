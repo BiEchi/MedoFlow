{
 "cells": [
  {
   "cell_type": "code",
   "execution_count": 5,
   "metadata": {},
   "outputs": [],
   "source": [
    "import numpy as np"
   ]
  },
  {
   "cell_type": "code",
   "execution_count": 6,
   "metadata": {},
   "outputs": [],
   "source": [
    "# def batch_norm_2d(x, gamma, beta, eps):\n",
    "#     N, C, H, W = x.shape\n",
    "\n",
    "#     # Compute mean and variance\n",
    "#     mu = np.mean(x, axis=(0, 2, 3)).reshape(1, C, 1, 1)\n",
    "#     var = np.var(x, axis=(0, 2, 3)).reshape(1, C, 1, 1)\n",
    "\n",
    "#     # Normalize and scale\n",
    "#     x_norm = (x - mu) / np.sqrt(var + eps)\n",
    "#     out = gamma.reshape(1, C, 1, 1) * x_norm + beta.reshape(1, C, 1, 1)\n",
    "\n",
    "#     # Cache values needed for backward pass\n",
    "#     cache = (x, x_norm, mu, var, gamma, beta, eps)\n",
    "\n",
    "#     return out, cache\n",
    "\n",
    "\n",
    "def np_batch_norm_2d_backward(dout, x, gamma, eps=1e-5):\n",
    "    # Compute the batch size\n",
    "    N, C, H, W = x.shape\n",
    "    \n",
    "    # compute the mean and var\n",
    "    mean = np.mean(x, axis=(0, 2, 3), keepdims=True)\n",
    "    var = np.mean((x - mean)**2, axis=(0, 2, 3), keepdims=True)\n",
    "    \n",
    "    # Compute the standard deviation and inverse of the standard deviation\n",
    "    std = np.sqrt(var + eps)\n",
    "    istd = 1.0 / std\n",
    "    \n",
    "    # Compute the normalized input\n",
    "    x_norm = (x - mean) / std\n",
    "    \n",
    "    # Compute the gradients with respect to gamma and beta\n",
    "    dgamma = np.sum(dout * x_norm, axis=(0, 2, 3), keepdims=True)\n",
    "    dbeta = np.sum(dout, axis=(0, 2, 3), keepdims=True)\n",
    "    \n",
    "    # Compute the gradient with respect to the input\n",
    "    # gamma is of shape (1, C, 1, 1), we should reshape it to C (scalar)\n",
    "    dx_norm = dout * gamma\n",
    "    dvar = np.sum(dx_norm * (x - mean) * (-0.5) * istd**3, axis=(0, 2, 3), keepdims=True)\n",
    "    dmean = np.sum(dx_norm * (-istd), axis=(0, 2, 3), keepdims=True) + dvar * np.mean(-2.0 * (x - mean), axis=(0, 2, 3), keepdims=True)\n",
    "    dx = dx_norm * istd + dvar * 2.0 * (x - mean) / (N * H * W) + dmean / (N * H * W)\n",
    "    \n",
    "    return dx, dgamma, dbeta\n",
    "\n"
   ]
  },
  {
   "cell_type": "code",
   "execution_count": 8,
   "metadata": {},
   "outputs": [],
   "source": [
    "N, C, H, W = 2, 3, 4, 5\n",
    "X_shape = (N, C, H, W)\n",
    "X = np.random.randn(*X_shape)\n",
    "out = np.random.randn(*X_shape)\n",
    "gamma = np.random.randn(1, C, 1, 1)\n",
    "eps = 1e-5\n",
    "\n",
    "dx, dgamma, dbeta = np_batch_norm_2d_backward(out, X, gamma, eps)"
   ]
  },
  {
   "cell_type": "code",
   "execution_count": 10,
   "metadata": {},
   "outputs": [
    {
     "data": {
      "text/plain": [
       "(1, 3, 1, 1)"
      ]
     },
     "execution_count": 10,
     "metadata": {},
     "output_type": "execute_result"
    }
   ],
   "source": [
    "dgamma.shape"
   ]
  },
  {
   "cell_type": "code",
   "execution_count": null,
   "metadata": {},
   "outputs": [],
   "source": []
  }
 ],
 "metadata": {
  "kernelspec": {
   "display_name": "medoflow",
   "language": "python",
   "name": "python3"
  },
  "language_info": {
   "codemirror_mode": {
    "name": "ipython",
    "version": 3
   },
   "file_extension": ".py",
   "mimetype": "text/x-python",
   "name": "python",
   "nbconvert_exporter": "python",
   "pygments_lexer": "ipython3",
   "version": "3.9.16"
  },
  "orig_nbformat": 4
 },
 "nbformat": 4,
 "nbformat_minor": 2
}
