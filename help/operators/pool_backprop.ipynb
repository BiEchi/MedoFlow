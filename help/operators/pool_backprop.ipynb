{
 "cells": [
  {
   "cell_type": "code",
   "execution_count": 19,
   "metadata": {},
   "outputs": [],
   "source": [
    "import numpy as np\n",
    "\n",
    "def np_maxpool2d(x, pool_size=2, stride=2):\n",
    "    N, C, H, W = x.shape\n",
    "    HO = int((H - pool_size) / stride + 1)\n",
    "    WO = int((W - pool_size) / stride + 1)\n",
    "    out = np.zeros((N, C, HO, WO))\n",
    "\n",
    "    for n in range(N):\n",
    "        for c in range(C):\n",
    "            for i in range(HO):\n",
    "                for j in range(WO):\n",
    "                    start_i = i * stride\n",
    "                    start_j = j * stride\n",
    "                    patch = x[n, c, start_i:start_i+pool_size, start_j:start_j+pool_size]\n",
    "                    out[n, c, i, j] = np.max(patch)\n",
    "\n",
    "    return out\n",
    "\n",
    "def make_maxpool2d(shapeX, pool_size, stride, tgt, tgt_host, func_name, dtype=\"float32\"):\n",
    "    N, C, H, W = shapeX\n",
    "    \n",
    "    input_mat = tvm.te.placeholder(shapeX, dtype=dtype, name='input_mat')\n",
    "    \n",
    "    di = tvm.te.reduce_axis((0, pool_size), name='di')\n",
    "    dj = tvm.te.reduce_axis((0, pool_size), name='dj')\n",
    "    oh = H // stride\n",
    "    ow = W // stride\n",
    "    output_mat = tvm.te.compute((N, C, oh, ow),\n",
    "                                lambda n, c, h, w: tvm.te.max(\n",
    "                                    input_mat[n, c, h*stride+di, w*stride+dj],\n",
    "                                    axis=[di, dj]\n",
    "                                ))\n",
    "    \n",
    "    s = tvm.te.create_schedule(output_mat.op)\n",
    "    f = tvm.build(s, [input_mat, output_mat], tgt, target_host=tgt_host, name=func_name)\n",
    "    \n",
    "    return f\n",
    "\n",
    "def np_maxpool2d_backward(grad_output, x, pool_size=2, stride=2):\n",
    "    N, C, H, W = x.shape\n",
    "    _, _, HO, WO = grad_output.shape\n",
    "    grad_input = np.zeros_like(x)\n",
    "\n",
    "    for n in range(N):\n",
    "        for c in range(C):\n",
    "            for i in range(HO):\n",
    "                for j in range(WO):\n",
    "                    start_i = i * stride\n",
    "                    start_j = j * stride\n",
    "                    patch = x[n, c, start_i:start_i+pool_size, start_j:start_j+pool_size]\n",
    "                    max_index = np.unravel_index(np.argmax(patch), patch.shape)\n",
    "                    grad_input[n, c, start_i+max_index[0], start_j+max_index[1]] += grad_output[n, c, i, j]\n",
    "\n",
    "    return grad_input\n",
    "\n",
    "def make_maxpool2d_grad(shapeX, pool_size, stride, tgt, tgt_host, func_name, dtype=\"float32\"):\n",
    "    N, C, H, W = shapeX\n",
    "    \n",
    "    input_mat = tvm.te.placeholder(shapeX, dtype=dtype, name='input_mat')\n",
    "    output_grad_mat = tvm.te.placeholder((N, C, H//stride, W//stride), dtype=dtype, name='output_grad_mat')\n",
    "    \n",
    "    di = tvm.te.reduce_axis((0, pool_size), name='di')\n",
    "    dj = tvm.te.reduce_axis((0, pool_size), name='dj')\n",
    "    \n",
    "    input_mat_grad = tvm.te.compute(shapeX,\n",
    "                                    lambda n, c, h, w: tvm.te.sum(\n",
    "                                        tvm.te.if_then_else(\n",
    "                                            tvm.te.all(h*stride+di < H, w*stride+dj < W,\n",
    "                                                       tvm.te.max(input_mat[n, c, h*stride+di, w*stride+dj],\n",
    "                                                                  axis=[di, dj]) == input_mat[n, c, h*stride+di, w*stride+dj]),\n",
    "                                            output_grad_mat[n, c, h, w],\n",
    "                                            0\n",
    "                                        ),\n",
    "                                        axis=[di, dj]\n",
    "                                    ), name='input_mat_grad')\n",
    "    \n",
    "    s = tvm.te.create_schedule(input_mat_grad.op)\n",
    "    s[output_grad_mat].compute_at(s[input_mat_grad], s[input_mat_grad].op.axis[2])\n",
    "    s[input_mat_grad].parallel(input_mat_grad.op.axis[0])\n",
    "    \n",
    "    f = tvm.build(s, [input_mat, output_grad_mat, input_mat_grad], tgt, target_host=tgt_host, name=func_name)\n",
    "    \n",
    "    return f\n",
    "\n"
   ]
  },
  {
   "cell_type": "code",
   "execution_count": 20,
   "metadata": {},
   "outputs": [],
   "source": [
    "x = np.random.randn(2, 3, 4, 4)\n",
    "dout = np.random.randn(2, 3, 2, 2)\n",
    "pool_size = 2\n",
    "stride = 2"
   ]
  },
  {
   "cell_type": "code",
   "execution_count": 21,
   "metadata": {},
   "outputs": [],
   "source": [
    "out = np_maxpool2d(x, pool_size, stride)\n",
    "dx = np_maxpool2d_backprop(x, dout, pool_size, stride)"
   ]
  },
  {
   "cell_type": "code",
   "execution_count": 22,
   "metadata": {},
   "outputs": [
    {
     "data": {
      "text/plain": [
       "array([[ 1.11889023,  0.62000086,  0.96244895, -0.63596303],\n",
       "       [-1.12377302, -0.03996   ,  0.2699869 , -0.05489106],\n",
       "       [-0.39580806,  0.73798365,  0.16091689,  1.04872109],\n",
       "       [-0.78010466, -1.05803005, -0.2180376 , -0.22106726]])"
      ]
     },
     "execution_count": 22,
     "metadata": {},
     "output_type": "execute_result"
    }
   ],
   "source": [
    "x[0][0]"
   ]
  },
  {
   "cell_type": "code",
   "execution_count": 23,
   "metadata": {},
   "outputs": [
    {
     "data": {
      "text/plain": [
       "array([[1.11889023, 0.96244895],\n",
       "       [0.73798365, 1.04872109]])"
      ]
     },
     "execution_count": 23,
     "metadata": {},
     "output_type": "execute_result"
    }
   ],
   "source": [
    "out[0][0]"
   ]
  },
  {
   "cell_type": "code",
   "execution_count": 26,
   "metadata": {},
   "outputs": [
    {
     "data": {
      "text/plain": [
       "array([[-1.08377042,  1.93676884],\n",
       "       [ 1.05419877, -1.22055425]])"
      ]
     },
     "execution_count": 26,
     "metadata": {},
     "output_type": "execute_result"
    }
   ],
   "source": [
    "dout[0][0]"
   ]
  },
  {
   "cell_type": "code",
   "execution_count": 24,
   "metadata": {},
   "outputs": [
    {
     "data": {
      "text/plain": [
       "array([[-1.08377042,  0.        ,  1.93676884,  0.        ],\n",
       "       [ 0.        ,  0.        ,  0.        ,  0.        ],\n",
       "       [ 0.        ,  1.05419877,  0.        , -1.22055425],\n",
       "       [ 0.        ,  0.        ,  0.        ,  0.        ]])"
      ]
     },
     "execution_count": 24,
     "metadata": {},
     "output_type": "execute_result"
    }
   ],
   "source": [
    "dx[0][0]"
   ]
  },
  {
   "cell_type": "code",
   "execution_count": null,
   "metadata": {},
   "outputs": [],
   "source": []
  }
 ],
 "metadata": {
  "kernelspec": {
   "display_name": "medoflow",
   "language": "python",
   "name": "python3"
  },
  "language_info": {
   "codemirror_mode": {
    "name": "ipython",
    "version": 3
   },
   "file_extension": ".py",
   "mimetype": "text/x-python",
   "name": "python",
   "nbconvert_exporter": "python",
   "pygments_lexer": "ipython3",
   "version": "3.9.16"
  },
  "orig_nbformat": 4
 },
 "nbformat": 4,
 "nbformat_minor": 2
}
