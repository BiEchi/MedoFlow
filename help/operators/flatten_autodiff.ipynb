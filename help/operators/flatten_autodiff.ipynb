{
 "cells": [
  {
   "cell_type": "code",
   "execution_count": 2,
   "metadata": {},
   "outputs": [],
   "source": [
    "def flatten(x):\n",
    "    N = x.shape[0]\n",
    "    return x.reshape(N, -1)"
   ]
  },
  {
   "cell_type": "code",
   "execution_count": 7,
   "metadata": {},
   "outputs": [],
   "source": [
    "def flatten_grad(x, dout):\n",
    "    return dout.reshape(x.shape)"
   ]
  },
  {
   "cell_type": "code",
   "execution_count": 8,
   "metadata": {},
   "outputs": [],
   "source": [
    "import numpy as np\n",
    "\n",
    "shapeX = (2, 3, 4, 4)\n",
    "shapeDOUT = (2, 3*4*4)\n",
    "dout = np.random.randn(*shapeDOUT)\n",
    "x = np.random.randn(*shapeX)\n",
    "dx = flatten_grad(x, dout)"
   ]
  },
  {
   "cell_type": "code",
   "execution_count": 12,
   "metadata": {},
   "outputs": [
    {
     "data": {
      "text/plain": [
       "array([ 1.03576046,  0.05216653,  0.10848465,  0.26105619,  0.18967967,\n",
       "       -0.10400629,  0.64088818, -1.36012763,  0.46725281,  1.90112682,\n",
       "        1.27196265, -0.01750512, -0.38232981, -1.04529704, -1.17130474,\n",
       "        1.42145251,  0.70648109,  0.89739178, -1.15710911, -2.80556352,\n",
       "        0.437981  , -0.12284724, -0.20531539, -1.25431859,  0.53990914,\n",
       "       -0.23237857,  1.1191482 , -0.40331339, -0.40987196,  0.87009106,\n",
       "        0.06449264,  1.18144018,  1.3708563 ,  0.97626381, -0.64821304,\n",
       "       -1.97653849,  3.02087881, -0.10695352, -0.78618928,  0.6128501 ,\n",
       "       -0.14550715, -0.82235529, -0.6259998 , -0.84306614,  0.84555936,\n",
       "       -1.30527977, -0.7536706 ,  0.33777997])"
      ]
     },
     "execution_count": 12,
     "metadata": {},
     "output_type": "execute_result"
    }
   ],
   "source": [
    "dout[0]"
   ]
  },
  {
   "cell_type": "code",
   "execution_count": 13,
   "metadata": {},
   "outputs": [
    {
     "data": {
      "text/plain": [
       "array([[[ 1.03576046,  0.05216653,  0.10848465,  0.26105619],\n",
       "        [ 0.18967967, -0.10400629,  0.64088818, -1.36012763],\n",
       "        [ 0.46725281,  1.90112682,  1.27196265, -0.01750512],\n",
       "        [-0.38232981, -1.04529704, -1.17130474,  1.42145251]],\n",
       "\n",
       "       [[ 0.70648109,  0.89739178, -1.15710911, -2.80556352],\n",
       "        [ 0.437981  , -0.12284724, -0.20531539, -1.25431859],\n",
       "        [ 0.53990914, -0.23237857,  1.1191482 , -0.40331339],\n",
       "        [-0.40987196,  0.87009106,  0.06449264,  1.18144018]],\n",
       "\n",
       "       [[ 1.3708563 ,  0.97626381, -0.64821304, -1.97653849],\n",
       "        [ 3.02087881, -0.10695352, -0.78618928,  0.6128501 ],\n",
       "        [-0.14550715, -0.82235529, -0.6259998 , -0.84306614],\n",
       "        [ 0.84555936, -1.30527977, -0.7536706 ,  0.33777997]]])"
      ]
     },
     "execution_count": 13,
     "metadata": {},
     "output_type": "execute_result"
    }
   ],
   "source": [
    "dx[0]"
   ]
  },
  {
   "cell_type": "code",
   "execution_count": null,
   "metadata": {},
   "outputs": [],
   "source": []
  }
 ],
 "metadata": {
  "kernelspec": {
   "display_name": "medoflow",
   "language": "python",
   "name": "python3"
  },
  "language_info": {
   "codemirror_mode": {
    "name": "ipython",
    "version": 3
   },
   "file_extension": ".py",
   "mimetype": "text/x-python",
   "name": "python",
   "nbconvert_exporter": "python",
   "pygments_lexer": "ipython3",
   "version": "3.9.16"
  },
  "orig_nbformat": 4
 },
 "nbformat": 4,
 "nbformat_minor": 2
}
