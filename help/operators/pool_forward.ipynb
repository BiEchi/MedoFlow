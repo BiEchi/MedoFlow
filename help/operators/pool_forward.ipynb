{
 "cells": [
  {
   "cell_type": "code",
   "execution_count": 2,
   "metadata": {},
   "outputs": [],
   "source": [
    "import numpy as np"
   ]
  },
  {
   "cell_type": "code",
   "execution_count": 3,
   "metadata": {},
   "outputs": [],
   "source": [
    "def np_maxpool2d(x, pool_size=2, stride=2):\n",
    "    N, C, H, W = x.shape\n",
    "    HO = int((H - pool_size) / stride + 1)\n",
    "    WO = int((W - pool_size) / stride + 1)\n",
    "    out = np.zeros((N, C, HO, WO))\n",
    "\n",
    "    for n in range(N):\n",
    "        for c in range(C):\n",
    "            for i in range(HO):\n",
    "                for j in range(WO):\n",
    "                    start_i = i * stride\n",
    "                    start_j = j * stride\n",
    "                    patch = x[n, c, start_i:start_i+pool_size, start_j:start_j+pool_size]\n",
    "                    out[n, c, i, j] = np.max(patch)\n",
    "\n",
    "    return out"
   ]
  },
  {
   "cell_type": "code",
   "execution_count": 20,
   "metadata": {},
   "outputs": [
    {
     "name": "stdout",
     "output_type": "stream",
     "text": [
      "(10, 3, 2, 2)\n"
     ]
    }
   ],
   "source": [
    "# test whether the output is correct\n",
    "x = np.random.rand(10, 3, 5, 5)\n",
    "out = np_maxpool2d(x, pool_size=3, stride=2)\n",
    "print(out.shape)"
   ]
  },
  {
   "cell_type": "code",
   "execution_count": 21,
   "metadata": {},
   "outputs": [
    {
     "data": {
      "text/plain": [
       "array([[0.17722978, 0.08915012, 0.03125532, 0.24995072, 0.63376382],\n",
       "       [0.14108084, 0.23714348, 0.89276338, 0.85952069, 0.64227471],\n",
       "       [0.93780456, 0.13682921, 0.14143426, 0.93631742, 0.31892042],\n",
       "       [0.23115943, 0.359847  , 0.02694285, 0.47633637, 0.95880062],\n",
       "       [0.59595938, 0.43831253, 0.10433458, 0.70927281, 0.7511994 ]])"
      ]
     },
     "execution_count": 21,
     "metadata": {},
     "output_type": "execute_result"
    }
   ],
   "source": [
    "x[0][0]"
   ]
  },
  {
   "cell_type": "code",
   "execution_count": 22,
   "metadata": {},
   "outputs": [
    {
     "data": {
      "text/plain": [
       "array([[0.93780456, 0.93631742],\n",
       "       [0.93780456, 0.95880062]])"
      ]
     },
     "execution_count": 22,
     "metadata": {},
     "output_type": "execute_result"
    }
   ],
   "source": [
    "out[0][0]"
   ]
  },
  {
   "cell_type": "code",
   "execution_count": null,
   "metadata": {},
   "outputs": [],
   "source": []
  }
 ],
 "metadata": {
  "kernelspec": {
   "display_name": "medoflow",
   "language": "python",
   "name": "python3"
  },
  "language_info": {
   "codemirror_mode": {
    "name": "ipython",
    "version": 3
   },
   "file_extension": ".py",
   "mimetype": "text/x-python",
   "name": "python",
   "nbconvert_exporter": "python",
   "pygments_lexer": "ipython3",
   "version": "3.9.16"
  },
  "orig_nbformat": 4
 },
 "nbformat": 4,
 "nbformat_minor": 2
}
