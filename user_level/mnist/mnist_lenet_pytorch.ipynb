{
 "cells": [
  {
   "cell_type": "code",
   "execution_count": 1,
   "metadata": {},
   "outputs": [],
   "source": [
    "import torch\n",
    "import os\n",
    "import gzip\n",
    "import pickle"
   ]
  },
  {
   "cell_type": "markdown",
   "metadata": {},
   "source": [
    "## Load and examine dataset"
   ]
  },
  {
   "cell_type": "code",
   "execution_count": 2,
   "metadata": {},
   "outputs": [
    {
     "name": "stdout",
     "output_type": "stream",
     "text": [
      "Loading data...\n",
      "Loaded train_set, valid_set and test_set.\n"
     ]
    }
   ],
   "source": [
    "\"\"\" Load the dataset\n",
    "Code adapted from http://deeplearning.net/tutorial/code/logistic_sgd.py\n",
    "\n",
    ":type dataset: string\n",
    ":param dataset: the path to the dataset (here MNIST)\n",
    "\"\"\"\n",
    "# Download the MNIST dataset if it is not present\n",
    "dataset = \"mnist.pkl.gz\"\n",
    "\n",
    "data_dir, data_file = os.path.split(dataset)\n",
    "if data_dir == \"\" and not os.path.isfile(dataset):\n",
    "    # Check if dataset is in the data directory.\n",
    "    new_path = os.path.join(\n",
    "        os.path.split(__file__)[0],\n",
    "        dataset\n",
    "    )\n",
    "    if os.path.isfile(new_path) or data_file == 'mnist.pkl.gz':\n",
    "        dataset = new_path\n",
    "\n",
    "if (not os.path.isfile(dataset)) and data_file == 'mnist.pkl.gz':\n",
    "    from six.moves import urllib\n",
    "    origin = (\n",
    "        'http://www.iro.umontreal.ca/~lisa/deep/data/mnist/mnist.pkl.gz'\n",
    "    )\n",
    "    print('Downloading data from %s' % origin)\n",
    "    urllib.request.urlretrieve(origin, dataset)\n",
    "\n",
    "print('Loading data...')\n",
    "\n",
    "# Load the dataset\n",
    "with gzip.open(dataset, 'rb') as f:\n",
    "    try:\n",
    "        train_set, valid_set, test_set = pickle.load(f, encoding='latin1')\n",
    "    except:\n",
    "        train_set, valid_set, test_set = pickle.load(f)\n",
    "# train_set, valid_set, test_set format: tuple(input, target)\n",
    "# input is a numpy.ndarray of 2 dimensions (a matrix), np.float32\n",
    "# where each row corresponds to an example. target is a\n",
    "# numpy.ndarray of 1 dimension (vector), np.int64 that has the same length\n",
    "# as the number of rows in the input. It should give the target\n",
    "# to the example with the same index in the input.\n",
    "print('Loaded train_set, valid_set and test_set.')"
   ]
  },
  {
   "cell_type": "code",
   "execution_count": 3,
   "metadata": {},
   "outputs": [
    {
     "name": "stdout",
     "output_type": "stream",
     "text": [
      "(50000, 784)\n",
      "(50000,)\n",
      "(50000, 1, 28, 28)\n",
      "(50000,)\n"
     ]
    }
   ],
   "source": [
    "print(train_set[0].shape)\n",
    "print(train_set[1].shape)\n",
    "\n",
    "# because we use lenet, we need to reshape the data\n",
    "train_set = (train_set[0].reshape((-1, 1, 28, 28)), train_set[1])\n",
    "valid_set = (valid_set[0].reshape((-1, 1, 28, 28)), valid_set[1])\n",
    "test_set = (test_set[0].reshape((-1, 1, 28, 28)), test_set[1])\n",
    "\n",
    "print(train_set[0].shape)\n",
    "print(train_set[1].shape)"
   ]
  },
  {
   "cell_type": "code",
   "execution_count": 4,
   "metadata": {},
   "outputs": [
    {
     "data": {
      "image/png": "[encoded data removed]",
      "text/plain": [
       "<Figure size 640x480 with 1 Axes>"
      ]
     },
     "metadata": {},
     "output_type": "display_data"
    }
   ],
   "source": [
    "# plot a random sample\n",
    "import matplotlib.pyplot as plt\n",
    "plt.imshow(train_set[0][0][0], cmap='gray')\n",
    "plt.show()"
   ]
  },
  {
   "cell_type": "code",
   "execution_count": 5,
   "metadata": {},
   "outputs": [],
   "source": [
    "# Build the CNN model\n",
    "import torch.nn as nn\n",
    "import torch.nn.functional as F\n",
    " \n",
    "class LeNet(nn.Module):\n",
    "    def __init__(self):\n",
    "        super(LeNet, self).__init__()\n",
    "        # conv2d\n",
    "        self.conv1 = nn.Conv2d(1, 6, 5, bias=False)\n",
    "        self.conv2 = nn.Conv2d(6, 16, 5, bias=False)\n",
    "        # bn\n",
    "        self.bn1 = nn.BatchNorm2d(6)\n",
    "        self.bn2 = nn.BatchNorm2d(16)\n",
    "        # affine\n",
    "        self.fc1 = nn.Linear(16*4*4, 120)\n",
    "        self.fc2 = nn.Linear(120, 84)\n",
    "        self.fc3 = nn.Linear(84, 10)\n",
    "        # relu\n",
    "        self.relu = nn.ReLU()\n",
    "        # maxpool\n",
    "        self.maxpool = nn.MaxPool2d(2, 2)\n",
    "\n",
    "    def forward(self, x):\n",
    "        # conv2d -> relu -> maxpool -> bn\n",
    "        x = self.maxpool(self.relu(self.conv1(x)))\n",
    "        x = self.bn1(x)\n",
    "        x = self.maxpool(self.relu(self.conv2(x)))\n",
    "        x = self.bn2(x)\n",
    "        # flatten\n",
    "        x = x.view(-1, 16*4*4)\n",
    "        # affine -> relu\n",
    "        x = self.relu(self.fc1(x))\n",
    "        x = self.relu(self.fc2(x))\n",
    "        # affine\n",
    "        x = self.fc3(x)\n",
    "        return x\n"
   ]
  },
  {
   "cell_type": "code",
   "execution_count": 6,
   "metadata": {},
   "outputs": [],
   "source": [
    "# Define the model\n",
    "model = LeNet()\n",
    "\n",
    "# Define the loss function\n",
    "criterion = nn.CrossEntropyLoss()\n",
    "\n",
    "# Define the optimizer\n",
    "import torch.optim as optim\n",
    "optimizer = optim.SGD(model.parameters(), lr=1.0e-3)\n",
    "\n",
    "# Train the model\n",
    "import time\n",
    "import numpy as np \n",
    "\n",
    "# a minibatch is 1000 samples\n",
    "batch_size = 64\n",
    "# number of epochs\n",
    "n_epochs = 10\n",
    "\n",
    "# convert to torch tensors\n",
    "train_set = (torch.from_numpy(train_set[0]).float(), torch.from_numpy(train_set[1]).long())\n",
    "valid_set = (torch.from_numpy(valid_set[0]).float(), torch.from_numpy(valid_set[1]).long())\n",
    "test_set = (torch.from_numpy(test_set[0]).float(), torch.from_numpy(test_set[1]).long())\n",
    "\n",
    "# convert to torch datasets\n",
    "train_dataset = torch.utils.data.TensorDataset(train_set[0], train_set[1])\n",
    "valid_dataset = torch.utils.data.TensorDataset(valid_set[0], valid_set[1])\n",
    "test_dataset = torch.utils.data.TensorDataset(test_set[0], test_set[1])\n",
    " \n",
    "# convert to torch dataloaders\n",
    "train_loader = torch.utils.data.DataLoader(train_dataset, batch_size=batch_size, shuffle=False)\n",
    "valid_loader = torch.utils.data.DataLoader(valid_dataset, batch_size=batch_size, shuffle=False)\n",
    "test_loader = torch.utils.data.DataLoader(test_dataset, batch_size=batch_size, shuffle=False)"
   ]
  },
  {
   "cell_type": "code",
   "execution_count": 7,
   "metadata": {},
   "outputs": [
    {
     "name": "stdout",
     "output_type": "stream",
     "text": [
      "Epoch 1/10\n",
      "Train accuracy: 0.0901\n",
      "Validation accuracy: 0.0915\n",
      "loss_sum:  1753.049132347107 batch_num:  782\n",
      "Train loss: 2.2418\n",
      "Epoch 2/10\n",
      "Train accuracy: 0.4745\n",
      "Validation accuracy: 0.4783\n",
      "loss_sum:  1583.8716975450516 batch_num:  782\n",
      "Train loss: 2.0254\n",
      "Epoch 3/10\n",
      "Train accuracy: 0.6106\n",
      "Validation accuracy: 0.6236\n",
      "loss_sum:  1253.3108283281326 batch_num:  782\n",
      "Train loss: 1.6027\n",
      "Epoch 4/10\n",
      "Train accuracy: 0.7446\n",
      "Validation accuracy: 0.7615\n",
      "loss_sum:  827.1079672574997 batch_num:  782\n",
      "Train loss: 1.0577\n",
      "Epoch 5/10\n",
      "Train accuracy: 0.8474\n",
      "Validation accuracy: 0.8646\n",
      "loss_sum:  513.3284580111504 batch_num:  782\n",
      "Train loss: 0.6564\n",
      "Epoch 6/10\n",
      "Train accuracy: 0.8932\n",
      "Validation accuracy: 0.9096\n",
      "loss_sum:  353.6061364412308 batch_num:  782\n",
      "Train loss: 0.4522\n",
      "Epoch 7/10\n",
      "Train accuracy: 0.9131\n",
      "Validation accuracy: 0.9240\n",
      "loss_sum:  271.4709257930517 batch_num:  782\n",
      "Train loss: 0.3471\n",
      "Epoch 8/10\n",
      "Train accuracy: 0.9249\n",
      "Validation accuracy: 0.9344\n",
      "loss_sum:  224.08300163596869 batch_num:  782\n",
      "Train loss: 0.2866\n",
      "Epoch 9/10\n",
      "Train accuracy: 0.9332\n",
      "Validation accuracy: 0.9401\n",
      "loss_sum:  193.57173792272806 batch_num:  782\n",
      "Train loss: 0.2475\n",
      "Epoch 10/10\n",
      "Train accuracy: 0.9394\n",
      "Validation accuracy: 0.9466\n",
      "loss_sum:  172.1325514614582 batch_num:  782\n",
      "Train loss: 0.2201\n",
      "Total time: 0.89 minutes\n"
     ]
    }
   ],
   "source": [
    "model = LeNet()\n",
    "criterion = nn.CrossEntropyLoss()\n",
    "learning_rate = 1.0e-3\n",
    "n_epochs = 10\n",
    "\n",
    "train_loss_list = []\n",
    "train_acc_list = []\n",
    "valid_acc_list = []\n",
    "optimizer = torch.optim.SGD(model.parameters(), lr=learning_rate)\n",
    "\n",
    "# start time\n",
    "start_time = time.time()\n",
    "\n",
    "for epoch in range(n_epochs):\n",
    "    print('Epoch {}/{}'.format(epoch+1, n_epochs))\n",
    "    \n",
    "    model.eval()\n",
    "    train_correct = 0\n",
    "    train_total = 0 \n",
    "    for data, target in train_loader:\n",
    "        output = model(data)\n",
    "        _, pred = torch.max(output, 1)\n",
    "        train_correct += (pred == target).sum().item()\n",
    "        train_total += target.size(0)\n",
    "    train_acc = train_correct / train_total\n",
    "    train_acc_list.append(train_acc)\n",
    "    print('Train accuracy: {:.4f}'.format(train_acc))\n",
    "    \n",
    "    valid_correct = 0\n",
    "    valid_total = 0\n",
    "    for data, target in valid_loader:\n",
    "        output = model(data)\n",
    "        _, pred = torch.max(output, 1)\n",
    "        valid_correct += (pred == target).sum().item()\n",
    "        valid_total += target.size(0)\n",
    "    \n",
    "    valid_acc = valid_correct / valid_total\n",
    "    valid_acc_list.append(valid_acc)\n",
    "    print('Validation accuracy: {:.4f}'.format(valid_acc))\n",
    "    \n",
    "    model.train()\n",
    "    loss_sum = 0\n",
    "    batch_num = 0\n",
    "    for inputs, labels in train_loader:\n",
    "        outputs = model(inputs)\n",
    "        optimizer.zero_grad()\n",
    "        loss = criterion(outputs, labels)\n",
    "        loss.backward()\n",
    "        optimizer.step()\n",
    "        loss_sum += loss.item()\n",
    "        batch_num += 1\n",
    "    print(\"loss_sum: \", loss_sum, \"batch_num: \", batch_num)\n",
    "    average_loss = loss_sum / batch_num\n",
    "    train_loss_list.append(average_loss)\n",
    "    print('Train loss: {:.4f}'.format(average_loss))\n",
    "    \n",
    "# end time\n",
    "end_time = time.time()\n",
    "print('Total time: {:.2f} minutes'.format((end_time - start_time)/60))"
   ]
  },
  {
   "cell_type": "code",
   "execution_count": 8,
   "metadata": {},
   "outputs": [],
   "source": [
    "import json\n",
    "with open(\"results/pytorch_lenet.json\", \"w\") as f:\n",
    "    json.dump({\n",
    "        \"train_loss\": train_loss_list,\n",
    "        \"train_acc\": train_acc_list,\n",
    "        \"valid_acc\": valid_acc_list\n",
    "    }, f)"
   ]
  },
  {
   "cell_type": "code",
   "execution_count": 9,
   "metadata": {},
   "outputs": [],
   "source": [
    "def predict(model, dataloader):\n",
    "    \n",
    "    # set the model to evaluation mode\n",
    "    model.eval()\n",
    "    \n",
    "    # make predictions\n",
    "    predictions = []\n",
    "    with torch.no_grad():\n",
    "        for inputs, targets in dataloader:\n",
    "            inputs = inputs.to(device)\n",
    "            output = model(inputs)\n",
    "            _, pred = torch.max(output, 1)\n",
    "            predictions.extend(pred.cpu().numpy())\n",
    "    \n",
    "    return predictions\n"
   ]
  },
  {
   "cell_type": "code",
   "execution_count": 10,
   "metadata": {},
   "outputs": [
    {
     "ename": "NameError",
     "evalue": "name 'device' is not defined",
     "output_type": "error",
     "traceback": [
      "\u001b[0;31m---------------------------------------------------------------------------\u001b[0m",
      "\u001b[0;31mNameError\u001b[0m                                 Traceback (most recent call last)",
      "Cell \u001b[0;32mIn[10], line 5\u001b[0m\n\u001b[1;32m      2\u001b[0m get_ipython()\u001b[39m.\u001b[39mrun_line_magic(\u001b[39m'\u001b[39m\u001b[39mmatplotlib\u001b[39m\u001b[39m'\u001b[39m, \u001b[39m'\u001b[39m\u001b[39minline\u001b[39m\u001b[39m'\u001b[39m)\n\u001b[1;32m      4\u001b[0m \u001b[39m# get some predictions\u001b[39;00m\n\u001b[0;32m----> 5\u001b[0m predictions \u001b[39m=\u001b[39m predict(model, test_loader)\n\u001b[1;32m      7\u001b[0m \u001b[39m# select some random samples\u001b[39;00m\n\u001b[1;32m      8\u001b[0m n_samples \u001b[39m=\u001b[39m \u001b[39m10\u001b[39m\n",
      "Cell \u001b[0;32mIn[9], line 10\u001b[0m, in \u001b[0;36mpredict\u001b[0;34m(model, dataloader)\u001b[0m\n\u001b[1;32m      8\u001b[0m \u001b[39mwith\u001b[39;00m torch\u001b[39m.\u001b[39mno_grad():\n\u001b[1;32m      9\u001b[0m     \u001b[39mfor\u001b[39;00m inputs, targets \u001b[39min\u001b[39;00m dataloader:\n\u001b[0;32m---> 10\u001b[0m         inputs \u001b[39m=\u001b[39m inputs\u001b[39m.\u001b[39mto(device)\n\u001b[1;32m     11\u001b[0m         output \u001b[39m=\u001b[39m model(inputs)\n\u001b[1;32m     12\u001b[0m         _, pred \u001b[39m=\u001b[39m torch\u001b[39m.\u001b[39mmax(output, \u001b[39m1\u001b[39m)\n",
      "\u001b[0;31mNameError\u001b[0m: name 'device' is not defined"
     ]
    }
   ],
   "source": [
    "import matplotlib.pyplot as plt\n",
    "%matplotlib inline\n",
    "\n",
    "# get some predictions\n",
    "predictions = predict(model, test_loader)\n",
    "\n",
    "# select some random samples\n",
    "n_samples = 10\n",
    "sample_indices = np.random.choice(len(test_set[0]), n_samples)\n",
    "\n",
    "# plot the samples and their predicted labels\n",
    "fig, axs = plt.subplots(1, n_samples, figsize=(30, 5))\n",
    "for i, idx in enumerate(sample_indices):\n",
    "    image = test_set[0][idx].numpy().transpose(1, 2, 0)\n",
    "    label = test_set[1][idx].item()\n",
    "    predicted_label = predictions[idx]\n",
    "    axs[i].imshow(image)\n",
    "    axs[i].set_title(f\"true: {label}, predicted: {predicted_label}\")\n",
    "    axs[i].axis('off')\n",
    "plt.show()\n"
   ]
  },
  {
   "cell_type": "code",
   "execution_count": null,
   "metadata": {},
   "outputs": [],
   "source": []
  }
 ],
 "metadata": {
  "kernelspec": {
   "display_name": "medoflow",
   "language": "python",
   "name": "python3"
  },
  "language_info": {
   "codemirror_mode": {
    "name": "ipython",
    "version": 3
   },
   "file_extension": ".py",
   "mimetype": "text/x-python",
   "name": "python",
   "nbconvert_exporter": "python",
   "pygments_lexer": "ipython3",
   "version": "3.9.16"
  },
  "orig_nbformat": 4
 },
 "nbformat": 4,
 "nbformat_minor": 2
}
