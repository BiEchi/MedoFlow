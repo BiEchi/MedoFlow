{
 "cells": [
  {
   "attachments": {},
   "cell_type": "markdown",
   "metadata": {},
   "source": [
    "# MNIST with Logistic Regression\n",
    "\n",
    "This file is extracted from mnist_dlsys.py, with extra code about logging and plotting added."
   ]
  },
  {
   "attachments": {},
   "cell_type": "markdown",
   "metadata": {},
   "source": [
    "## Imports"
   ]
  },
  {
   "cell_type": "code",
   "execution_count": 1,
   "metadata": {},
   "outputs": [],
   "source": [
    "import sys\n",
    "sys.path.append('../../')\n",
    "\n",
    "import numpy as np\n",
    "import argparse\n",
    "import six.moves.cPickle as pickle\n",
    "import gzip\n",
    "import os\n",
    "import time\n",
    "from tqdm import tqdm\n",
    "\n",
    "import tvm\n",
    "from system_level import autodiff as ad\n",
    "from system_level import tvm_op\n",
    "\n",
    "import warnings\n",
    "warnings.filterwarnings(\"ignore\")"
   ]
  },
  {
   "attachments": {},
   "cell_type": "markdown",
   "metadata": {},
   "source": [
    "## Setup"
   ]
  },
  {
   "cell_type": "code",
   "execution_count": 2,
   "metadata": {},
   "outputs": [],
   "source": [
    "tgt = \"llvm\"\n",
    "tgt_host = \"llvm\"\n",
    "\n",
    "# create context object\n",
    "executor_ctx = tvm.device(tgt, 0)\n",
    "\n",
    "print_loss_val_each_epoch = True\n",
    "num_epochs = 20\n",
    "\n",
    "def convert_to_one_hot(vals):\n",
    "    \"\"\"Helper method to convert label array to one-hot array.\"\"\"\n",
    "    one_hot_vals = np.zeros((vals.size, 10))\n",
    "    one_hot_vals[np.arange(vals.size), vals] = 1\n",
    "    return one_hot_vals\n"
   ]
  },
  {
   "attachments": {},
   "cell_type": "markdown",
   "metadata": {},
   "source": [
    "## Load and examine dataset"
   ]
  },
  {
   "cell_type": "code",
   "execution_count": 3,
   "metadata": {},
   "outputs": [
    {
     "name": "stdout",
     "output_type": "stream",
     "text": [
      "Loading data...\n",
      "Loaded train_set, valid_set and test_set.\n"
     ]
    }
   ],
   "source": [
    "\"\"\" Load the dataset\n",
    "Code adapted from http://deeplearning.net/tutorial/code/logistic_sgd.py\n",
    "\n",
    ":type dataset: string\n",
    ":param dataset: the path to the dataset (here MNIST)\n",
    "\"\"\"\n",
    "# Download the MNIST dataset if it is not present\n",
    "dataset = \"mnist.pkl.gz\"\n",
    "\n",
    "data_dir, data_file = os.path.split(dataset)\n",
    "if data_dir == \"\" and not os.path.isfile(dataset):\n",
    "    # Check if dataset is in the data directory.\n",
    "    new_path = os.path.join(\n",
    "        os.path.split(__file__)[0],\n",
    "        dataset\n",
    "    )\n",
    "    if os.path.isfile(new_path) or data_file == 'mnist.pkl.gz':\n",
    "        dataset = new_path\n",
    "\n",
    "if (not os.path.isfile(dataset)) and data_file == 'mnist.pkl.gz':\n",
    "    from six.moves import urllib\n",
    "    origin = (\n",
    "        'http://www.iro.umontreal.ca/~lisa/deep/data/mnist/mnist.pkl.gz'\n",
    "    )\n",
    "    print('Downloading data from %s' % origin)\n",
    "    urllib.request.urlretrieve(origin, dataset)\n",
    "\n",
    "print('Loading data...')\n",
    "\n",
    "# Load the dataset\n",
    "with gzip.open(dataset, 'rb') as f:\n",
    "    try:\n",
    "        train_set, valid_set, test_set = pickle.load(f, encoding='latin1')\n",
    "    except:\n",
    "        train_set, valid_set, test_set = pickle.load(f)\n",
    "# train_set, valid_set, test_set format: tuple(input, target)\n",
    "# input is a numpy.ndarray of 2 dimensions (a matrix), np.float32\n",
    "# where each row corresponds to an example. target is a\n",
    "# numpy.ndarray of 1 dimension (vector), np.int64 that has the same length\n",
    "# as the number of rows in the input. It should give the target\n",
    "# to the example with the same index in the input.\n",
    "print('Loaded train_set, valid_set and test_set.')"
   ]
  },
  {
   "cell_type": "code",
   "execution_count": 4,
   "metadata": {},
   "outputs": [
    {
     "name": "stdout",
     "output_type": "stream",
     "text": [
      "(50000, 784)\n",
      "(50000,)\n"
     ]
    }
   ],
   "source": [
    "print(train_set[0].shape)\n",
    "print(train_set[1].shape)"
   ]
  },
  {
   "cell_type": "markdown",
   "metadata": {},
   "source": [
    "## Construct the computational graph"
   ]
  },
  {
   "cell_type": "code",
   "execution_count": 5,
   "metadata": {},
   "outputs": [
    {
     "name": "stdout",
     "output_type": "stream",
     "text": [
      "=== Building logistic regression model...\n",
      "Start training loop...\n"
     ]
    }
   ],
   "source": [
    "print(\"=== Building logistic regression model...\")\n",
    "\n",
    "W1 = ad.Variable(name=\"W1\")\n",
    "b1 = ad.Variable(name=\"b1\")\n",
    "X = ad.Variable(name=\"X\")\n",
    "y_ = ad.Variable(name=\"y_\")\n",
    "\n",
    "z1 = ad.matmul_op(X, W1)\n",
    "y = z1 + ad.broadcastto_op(b1, z1)\n",
    "\n",
    "loss = ad.softmaxcrossentropy_op(y, y_)\n",
    "\n",
    "grad_W1, grad_b1 = ad.gradients(loss, [W1, b1])\n",
    "executor = ad.Executor([loss, grad_W1, grad_b1, y], ctx=executor_ctx)\n",
    "\n",
    "# Read input data\n",
    "train_set_x, train_set_y = train_set\n",
    "valid_set_x, valid_set_y = valid_set\n",
    "test_set_x, test_set_y = test_set\n",
    "\n",
    "# Set up minibatch\n",
    "batch_size = 1000\n",
    "n_train_batches = train_set_x.shape[0] // batch_size\n",
    "n_valid_batches = valid_set_x.shape[0] // batch_size\n",
    "\n",
    "print(\"Start training loop...\")\n",
    "\n",
    "# Initialize parameters\n",
    "W1_val = np.zeros((784, 10), dtype=np.float32)\n",
    "b1_val = np.zeros((10), dtype=np.float32)\n",
    "\n",
    "X_val = np.empty(shape=(batch_size, 784), dtype=np.float32)\n",
    "y_val = np.empty(shape=(batch_size, 10), dtype=np.float32)\n",
    "valid_X_val = np.empty(shape=(batch_size, 784), dtype=np.float32)\n",
    "valid_y_val = np.empty(shape=(batch_size, 10), dtype=np.float32)\n",
    "test_X_val = np.empty(shape=(1, 784), dtype=np.float32)\n",
    "test_y_val = np.empty(shape=(1, 10), dtype=np.float32)\n",
    "\n",
    "# wrap them under tvm.nd.array\n",
    "W1_val = tvm.nd.array(W1_val)\n",
    "b1_val = tvm.nd.array(b1_val)\n",
    "X_val = tvm.nd.array(X_val)\n",
    "y_val = tvm.nd.array(y_val)\n",
    "valid_X_val = tvm.nd.array(valid_X_val)\n",
    "valid_y_val = tvm.nd.array(valid_y_val)\n",
    "test_X_val = tvm.nd.array(test_X_val)\n",
    "test_y_val = tvm.nd.array(test_y_val)\n"
   ]
  },
  {
   "attachments": {},
   "cell_type": "markdown",
   "metadata": {},
   "source": [
    "## Train"
   ]
  },
  {
   "cell_type": "code",
   "execution_count": 6,
   "metadata": {},
   "outputs": [],
   "source": [
    "# training loop\n",
    "lr = 1e-3\n",
    "# JIT compile sgd update ops\n",
    "W1_sgd_update_func = tvm_op.make_sgd_update(\n",
    "    W1_val.shape, lr, tgt, tgt_host, \"W1_sgd_update\")\n",
    "b1_sgd_update_func = tvm_op.make_sgd_update(\n",
    "    b1_val.shape, lr, tgt, tgt_host, \"b1_sgd_update\")"
   ]
  },
  {
   "cell_type": "code",
   "execution_count": 7,
   "metadata": {},
   "outputs": [
    {
     "name": "stdout",
     "output_type": "stream",
     "text": [
      "@main = primfn(A_1: handle, B_1: handle, compute_1: handle) -> ()\n",
      "  attr = {\"from_legacy_te_schedule\": True, \"global_symbol\": \"main\", \"tir.noalias\": True}\n",
      "  buffers = {A: Buffer(A_2: Pointer(float32), float32, [784000], []),\n",
      "             B: Buffer(B_2: Pointer(float32), float32, [7840], []),\n",
      "             compute: Buffer(compute_2: Pointer(float32), float32, [10000], [])}\n",
      "  buffer_map = {A_1: A, B_1: B, compute_1: compute}\n",
      "  preflattened_buffer_map = {A_1: A_3: Buffer(A_2, float32, [1000, 784], []), B_1: B_3: Buffer(B_2, float32, [784, 10], []), compute_1: compute_3: Buffer(compute_2, float32, [1000, 10], [])} {\n",
      "  for (i.outer: int32, 0, 250) \"parallel\" {\n",
      "    for (j.outer: int32, 0, 3) {\n",
      "      for (j.inner.init: int32, 0, 4) {\n",
      "        if @tir.likely((((j.outer*2) + floordiv(j.inner.init, 2)) < 5), dtype=bool) {\n",
      "          compute[ramp((((i.outer*40) + (j.outer*4)) + j.inner.init), 10, 4)] = broadcast(0f32, 4)\n",
      "        }\n",
      "      }\n",
      "      for (k.outer: int32, 0, 196) {\n",
      "        for (j.inner: int32, 0, 4) {\n",
      "          if @tir.likely((((j.outer*2) + floordiv(j.inner, 2)) < 5), dtype=bool) {\n",
      "            let cse_var_2: int32 = (j.outer*4)\n",
      "            let cse_var_1: int32 = (((i.outer*40) + cse_var_2) + j.inner)\n",
      "            compute[ramp(cse_var_1, 10, 4)] = (compute[ramp(cse_var_1, 10, 4)] + (A[ramp(((i.outer*3136) + (k.outer*4)), 784, 4)]*broadcast(B[(((k.outer*40) + cse_var_2) + j.inner)], 4)))\n",
      "          }\n",
      "        }\n",
      "        for (j.inner_1: int32, 0, 4) {\n",
      "          if @tir.likely((((j.outer*2) + floordiv(j.inner_1, 2)) < 5), dtype=bool) {\n",
      "            let cse_var_4: int32 = (j.outer*4)\n",
      "            let cse_var_3: int32 = (((i.outer*40) + cse_var_4) + j.inner_1)\n",
      "            compute[ramp(cse_var_3, 10, 4)] = (compute[ramp(cse_var_3, 10, 4)] + (A[ramp((((i.outer*3136) + (k.outer*4)) + 1), 784, 4)]*broadcast(B[((((k.outer*40) + cse_var_4) + j.inner_1) + 10)], 4)))\n",
      "          }\n",
      "        }\n",
      "        for (j.inner_2: int32, 0, 4) {\n",
      "          if @tir.likely((((j.outer*2) + floordiv(j.inner_2, 2)) < 5), dtype=bool) {\n",
      "            let cse_var_6: int32 = (j.outer*4)\n",
      "            let cse_var_5: int32 = (((i.outer*40) + cse_var_6) + j.inner_2)\n",
      "            compute[ramp(cse_var_5, 10, 4)] = (compute[ramp(cse_var_5, 10, 4)] + (A[ramp((((i.outer*3136) + (k.outer*4)) + 2), 784, 4)]*broadcast(B[((((k.outer*40) + cse_var_6) + j.inner_2) + 20)], 4)))\n",
      "          }\n",
      "        }\n",
      "        for (j.inner_3: int32, 0, 4) {\n",
      "          if @tir.likely((((j.outer*2) + floordiv(j.inner_3, 2)) < 5), dtype=bool) {\n",
      "            let cse_var_8: int32 = (j.outer*4)\n",
      "            let cse_var_7: int32 = (((i.outer*40) + cse_var_8) + j.inner_3)\n",
      "            compute[ramp(cse_var_7, 10, 4)] = (compute[ramp(cse_var_7, 10, 4)] + (A[ramp((((i.outer*3136) + (k.outer*4)) + 3), 784, 4)]*broadcast(B[((((k.outer*40) + cse_var_8) + j.inner_3) + 30)], 4)))\n",
      "          }\n",
      "        }\n",
      "      }\n",
      "    }\n",
      "  }\n",
      "}\n",
      "\n",
      "\n",
      "@main = primfn(A_1: handle, B_1: handle, compute_1: handle) -> ()\n",
      "  attr = {\"from_legacy_te_schedule\": True, \"global_symbol\": \"main\", \"tir.noalias\": True}\n",
      "  buffers = {A: Buffer(A_2: Pointer(float32), float32, [784000], []),\n",
      "             B: Buffer(B_2: Pointer(float32), float32, [10000], []),\n",
      "             compute: Buffer(compute_2: Pointer(float32), float32, [7840], [])}\n",
      "  buffer_map = {A_1: A, B_1: B, compute_1: compute}\n",
      "  preflattened_buffer_map = {A_1: A_3: Buffer(A_2, float32, [1000, 784], []), B_1: B_3: Buffer(B_2, float32, [1000, 10], []), compute_1: compute_3: Buffer(compute_2, float32, [784, 10], [])} {\n",
      "  for (i.outer: int32, 0, 196) \"parallel\" {\n",
      "    for (j.outer: int32, 0, 3) {\n",
      "      for (j.inner.init: int32, 0, 4) {\n",
      "        if @tir.likely((((j.outer*2) + floordiv(j.inner.init, 2)) < 5), dtype=bool) {\n",
      "          compute[ramp((((i.outer*40) + (j.outer*4)) + j.inner.init), 10, 4)] = broadcast(0f32, 4)\n",
      "        }\n",
      "      }\n",
      "      for (k.outer: int32, 0, 250) {\n",
      "        for (j.inner: int32, 0, 4) {\n",
      "          if @tir.likely((((j.outer*2) + floordiv(j.inner, 2)) < 5), dtype=bool) {\n",
      "            let cse_var_2: int32 = (j.outer*4)\n",
      "            let cse_var_1: int32 = (((i.outer*40) + cse_var_2) + j.inner)\n",
      "            compute[ramp(cse_var_1, 10, 4)] = (compute[ramp(cse_var_1, 10, 4)] + (A[ramp(((k.outer*3136) + (i.outer*4)), 1, 4)]*broadcast(B[(((k.outer*40) + cse_var_2) + j.inner)], 4)))\n",
      "          }\n",
      "        }\n",
      "        for (j.inner_1: int32, 0, 4) {\n",
      "          if @tir.likely((((j.outer*2) + floordiv(j.inner_1, 2)) < 5), dtype=bool) {\n",
      "            let cse_var_4: int32 = (j.outer*4)\n",
      "            let cse_var_3: int32 = (((i.outer*40) + cse_var_4) + j.inner_1)\n",
      "            compute[ramp(cse_var_3, 10, 4)] = (compute[ramp(cse_var_3, 10, 4)] + (A[ramp((((k.outer*3136) + (i.outer*4)) + 784), 1, 4)]*broadcast(B[((((k.outer*40) + cse_var_4) + j.inner_1) + 10)], 4)))\n",
      "          }\n",
      "        }\n",
      "        for (j.inner_2: int32, 0, 4) {\n",
      "          if @tir.likely((((j.outer*2) + floordiv(j.inner_2, 2)) < 5), dtype=bool) {\n",
      "            let cse_var_6: int32 = (j.outer*4)\n",
      "            let cse_var_5: int32 = (((i.outer*40) + cse_var_6) + j.inner_2)\n",
      "            compute[ramp(cse_var_5, 10, 4)] = (compute[ramp(cse_var_5, 10, 4)] + (A[ramp((((k.outer*3136) + (i.outer*4)) + 1568), 1, 4)]*broadcast(B[((((k.outer*40) + cse_var_6) + j.inner_2) + 20)], 4)))\n",
      "          }\n",
      "        }\n",
      "        for (j.inner_3: int32, 0, 4) {\n",
      "          if @tir.likely((((j.outer*2) + floordiv(j.inner_3, 2)) < 5), dtype=bool) {\n",
      "            let cse_var_8: int32 = (j.outer*4)\n",
      "            let cse_var_7: int32 = (((i.outer*40) + cse_var_8) + j.inner_3)\n",
      "            compute[ramp(cse_var_7, 10, 4)] = (compute[ramp(cse_var_7, 10, 4)] + (A[ramp((((k.outer*3136) + (i.outer*4)) + 2352), 1, 4)]*broadcast(B[((((k.outer*40) + cse_var_8) + j.inner_3) + 30)], 4)))\n",
      "          }\n",
      "        }\n",
      "      }\n",
      "    }\n",
      "  }\n",
      "}\n",
      "\n",
      "\n",
      "epoch 0: loss = 0.527482; Time taken this epoch = 0.145972 s\n",
      "epoch 10: loss = 0.364421; Time taken this epoch = 0.176513 s\n"
     ]
    }
   ],
   "source": [
    "train_acc_values = []\n",
    "val_acc_values = []\n",
    "\n",
    "for i in range(num_epochs):\n",
    "    train_correct = 0\n",
    "    train_total = 0\n",
    "    for minibatch_index in range(n_train_batches):\n",
    "        minibatch_start = minibatch_index * batch_size\n",
    "        minibatch_end = (minibatch_index + 1) * batch_size\n",
    "        X_val.copyfrom(train_set_x[minibatch_start:minibatch_end])\n",
    "        y_val.copyfrom(\n",
    "            convert_to_one_hot(train_set_y[minibatch_start:minibatch_end]))\n",
    "        _, _, _, y_pred = executor.run(\n",
    "            feed_dict={X: X_val, y_: y_val, W1: W1_val, b1: b1_val})\n",
    "        train_correct += np.sum(y_pred.asnumpy().argmax(axis=1) == train_set_y[minibatch_start:minibatch_end])\n",
    "        train_total += minibatch_end - minibatch_start\n",
    "    train_acc = train_correct / train_total\n",
    "    train_acc_values.append(train_acc)\n",
    "\n",
    "    val_correct = 0\n",
    "    val_total = 0\n",
    "    for minibatch_index in range(n_valid_batches):\n",
    "        minibatch_start = minibatch_index * batch_size\n",
    "        minibatch_end = (minibatch_index + 1) * batch_size\n",
    "        X_val.copyfrom(valid_set_x[minibatch_start:minibatch_end])\n",
    "        y_val.copyfrom(\n",
    "            convert_to_one_hot(valid_set_y[minibatch_start:minibatch_end]))\n",
    "        _, _, _, y_pred = executor.run(\n",
    "            feed_dict={X: X_val, y_: y_val, W1: W1_val, b1: b1_val})\n",
    "        val_correct += np.sum(y_pred.asnumpy().argmax(axis=1) == valid_set_y[minibatch_start:minibatch_end])\n",
    "        val_total += minibatch_end - minibatch_start\n",
    "    val_acc = val_correct / val_total\n",
    "    val_acc_values.append(val_acc)\n",
    "\n",
    "    start_time = time.time()\n",
    "    for minibatch_index in range(n_train_batches):\n",
    "        minibatch_start = minibatch_index * batch_size\n",
    "        minibatch_end = (minibatch_index + 1) * batch_size\n",
    "        X_val.copyfrom(train_set_x[minibatch_start:minibatch_end])\n",
    "        y_val.copyfrom(\n",
    "            convert_to_one_hot(train_set_y[minibatch_start:minibatch_end]))\n",
    "        loss_val, grad_W1_val, grad_b1_val, _ = executor.run(\n",
    "            feed_dict={X: X_val, y_: y_val, W1: W1_val, b1: b1_val})\n",
    "        # SGD update\n",
    "        W1_val = W1_val - lr * grad_W1_val\n",
    "        b1_val = b1_val - lr * grad_b1_val\n",
    "        W1_sgd_update_func(W1_val, grad_W1_val, W1_val);\n",
    "        b1_sgd_update_func(b1_val, grad_b1_val, b1_val);\n",
    "    epoch_time = time.time() - start_time\n",
    "    if i % 10 == 0:\n",
    "        print(\"epoch %d:\" % i, \"loss = %f; Time taken this epoch = %f s\" % ((loss_val.asnumpy()[0].astype(np.float64)), epoch_time))"
   ]
  },
  {
   "attachments": {},
   "cell_type": "markdown",
   "metadata": {},
   "source": [
    "## Plot"
   ]
  },
  {
   "cell_type": "code",
   "execution_count": 8,
   "metadata": {},
   "outputs": [
    {
     "data": {
      "image/png": "[encoded data removed]",
      "text/plain": [
       "<Figure size 640x480 with 1 Axes>"
      ]
     },
     "metadata": {},
     "output_type": "display_data"
    }
   ],
   "source": [
    "import matplotlib.pyplot as plt\n",
    "\n",
    "plt.plot(train_acc_values, label='Training accuracy')\n",
    "plt.plot(val_acc_values, label='Validation accuracy')\n",
    "plt.xlabel('Epoch')\n",
    "plt.ylabel('Accuracy')\n",
    "plt.legend()\n",
    "plt.show()\n"
   ]
  },
  {
   "attachments": {},
   "cell_type": "markdown",
   "metadata": {},
   "source": [
    "## Inference"
   ]
  },
  {
   "cell_type": "code",
   "execution_count": 9,
   "metadata": {},
   "outputs": [
    {
     "data": {
      "image/png": "[encoded data removed]",
      "text/plain": [
       "<Figure size 640x480 with 1 Axes>"
      ]
     },
     "metadata": {},
     "output_type": "display_data"
    },
    {
     "name": "stdout",
     "output_type": "stream",
     "text": [
      "@main = primfn(A_1: handle, B_1: handle, compute_1: handle) -> ()\n",
      "  attr = {\"from_legacy_te_schedule\": True, \"global_symbol\": \"main\", \"tir.noalias\": True}\n",
      "  buffers = {A: Buffer(A_2: Pointer(float32), float32, [784], []),\n",
      "             B: Buffer(B_2: Pointer(float32), float32, [7840], []),\n",
      "             compute: Buffer(compute_2: Pointer(float32), float32, [10], [])}\n",
      "  buffer_map = {A_1: A, B_1: B, compute_1: compute}\n",
      "  preflattened_buffer_map = {A_1: A_3: Buffer(A_2, float32, [1, 784], []), B_1: B_3: Buffer(B_2, float32, [784, 10], []), compute_1: compute_3: Buffer(compute_2, float32, [1, 10], [])} {\n",
      "  for (j.outer: int32, 0, 3) {\n",
      "    for (j.inner.init: int32, 0, 4) {\n",
      "      if @tir.likely((((j.outer*2) + floordiv(j.inner.init, 2)) < 5), dtype=bool) {\n",
      "        compute[((j.outer*4) + j.inner.init)] = 0f32\n",
      "      }\n",
      "    }\n",
      "    for (k.outer: int32, 0, 196) {\n",
      "      for (j.inner: int32, 0, 4) {\n",
      "        if @tir.likely((((j.outer*2) + floordiv(j.inner, 2)) < 5), dtype=bool) {\n",
      "          let cse_var_2: int32 = (j.outer*4)\n",
      "          let cse_var_1: int32 = (cse_var_2 + j.inner)\n",
      "          compute[cse_var_1] = (compute[cse_var_1] + (A[(k.outer*4)]*B[(((k.outer*40) + cse_var_2) + j.inner)]))\n",
      "        }\n",
      "      }\n",
      "      for (j.inner_1: int32, 0, 4) {\n",
      "        if @tir.likely((((j.outer*2) + floordiv(j.inner_1, 2)) < 5), dtype=bool) {\n",
      "          let cse_var_4: int32 = (j.outer*4)\n",
      "          let cse_var_3: int32 = (cse_var_4 + j.inner_1)\n",
      "          compute[cse_var_3] = (compute[cse_var_3] + (A[((k.outer*4) + 1)]*B[((((k.outer*40) + cse_var_4) + j.inner_1) + 10)]))\n",
      "        }\n",
      "      }\n",
      "      for (j.inner_2: int32, 0, 4) {\n",
      "        if @tir.likely((((j.outer*2) + floordiv(j.inner_2, 2)) < 5), dtype=bool) {\n",
      "          let cse_var_6: int32 = (j.outer*4)\n",
      "          let cse_var_5: int32 = (cse_var_6 + j.inner_2)\n",
      "          compute[cse_var_5] = (compute[cse_var_5] + (A[((k.outer*4) + 2)]*B[((((k.outer*40) + cse_var_6) + j.inner_2) + 20)]))\n",
      "        }\n",
      "      }\n",
      "      for (j.inner_3: int32, 0, 4) {\n",
      "        if @tir.likely((((j.outer*2) + floordiv(j.inner_3, 2)) < 5), dtype=bool) {\n",
      "          let cse_var_8: int32 = (j.outer*4)\n",
      "          let cse_var_7: int32 = (cse_var_8 + j.inner_3)\n",
      "          compute[cse_var_7] = (compute[cse_var_7] + (A[((k.outer*4) + 3)]*B[((((k.outer*40) + cse_var_8) + j.inner_3) + 30)]))\n",
      "        }\n",
      "      }\n",
      "    }\n",
      "  }\n",
      "}\n",
      "\n",
      "\n",
      "@main = primfn(A_1: handle, B_1: handle, compute_1: handle) -> ()\n",
      "  attr = {\"from_legacy_te_schedule\": True, \"global_symbol\": \"main\", \"tir.noalias\": True}\n",
      "  buffers = {A: Buffer(A_2: Pointer(float32), float32, [784], []),\n",
      "             B: Buffer(B_2: Pointer(float32), float32, [10], []),\n",
      "             compute: Buffer(compute_2: Pointer(float32), float32, [7840], [])}\n",
      "  buffer_map = {A_1: A, B_1: B, compute_1: compute}\n",
      "  preflattened_buffer_map = {A_1: A_3: Buffer(A_2, float32, [1, 784], []), B_1: B_3: Buffer(B_2, float32, [1, 10], []), compute_1: compute_3: Buffer(compute_2, float32, [784, 10], [])} {\n",
      "  for (i.outer: int32, 0, 196) \"parallel\" {\n",
      "    for (j.outer: int32, 0, 3) {\n",
      "      for (j.inner.init: int32, 0, 4) {\n",
      "        if @tir.likely((((j.outer*2) + floordiv(j.inner.init, 2)) < 5), dtype=bool) {\n",
      "          compute[ramp((((i.outer*40) + (j.outer*4)) + j.inner.init), 10, 4)] = broadcast(0f32, 4)\n",
      "        }\n",
      "      }\n",
      "      for (j.inner: int32, 0, 4) {\n",
      "        if @tir.likely((((j.outer*2) + floordiv(j.inner, 2)) < 5), dtype=bool) {\n",
      "          let cse_var_2: int32 = (j.outer*4)\n",
      "          let cse_var_1: int32 = (((i.outer*40) + cse_var_2) + j.inner)\n",
      "          compute[ramp(cse_var_1, 10, 4)] = (compute[ramp(cse_var_1, 10, 4)] + (A[ramp((i.outer*4), 1, 4)]*broadcast(B[(cse_var_2 + j.inner)], 4)))\n",
      "        }\n",
      "      }\n",
      "    }\n",
      "  }\n",
      "}\n",
      "\n",
      "\n",
      "Predicted digit: 5\n",
      "Actual digit: 5\n"
     ]
    }
   ],
   "source": [
    "# visualize the data\n",
    "import matplotlib.pyplot as plt\n",
    "import matplotlib.cm as cm\n",
    "import numpy as np\n",
    " \n",
    "# pick a random image from the test set\n",
    "idx = np.random.randint(0, test_set[0].shape[0])\n",
    "img_linear = test_set[0][idx]\n",
    "# reshape the image into 28x28 array (original shape of the image)\n",
    "img = img_linear.reshape(28, 28)\n",
    "# plot the image\n",
    "plt.imshow(img, cmap=cm.Greys_r)\n",
    "plt.show()\n",
    "\n",
    "# get predictions\n",
    "img_linear = img_linear.reshape(1, 784)\n",
    "test_X_val.copyfrom(img_linear)\n",
    "test_y_val.copyfrom(convert_to_one_hot(test_set_y[idx:idx+1]))\n",
    "_, _, _, y_pred = executor.run(\n",
    "    feed_dict={X: test_X_val, y_: test_y_val, W1: W1_val, b1: b1_val})\n",
    "print(\"Predicted digit:\", y_pred.asnumpy().argmax(axis=1)[0])\n",
    "print(\"Actual digit:\", test_set_y[idx])"
   ]
  }
 ],
 "metadata": {
  "kernelspec": {
   "display_name": "medoflow",
   "language": "python",
   "name": "python3"
  },
  "language_info": {
   "codemirror_mode": {
    "name": "ipython",
    "version": 3
   },
   "file_extension": ".py",
   "mimetype": "text/x-python",
   "name": "python",
   "nbconvert_exporter": "python",
   "pygments_lexer": "ipython3",
   "version": "3.9.16"
  },
  "orig_nbformat": 4
 },
 "nbformat": 4,
 "nbformat_minor": 2
}
