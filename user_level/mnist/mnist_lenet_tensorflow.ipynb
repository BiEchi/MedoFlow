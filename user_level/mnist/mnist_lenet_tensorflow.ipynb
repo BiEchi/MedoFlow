{
 "cells": [
  {
   "cell_type": "code",
   "execution_count": 14,
   "metadata": {},
   "outputs": [],
   "source": [
    "import torch\n",
    "import os\n",
    "import gzip\n",
    "import pickle\n",
    "import time\n",
    "import numpy as np \n",
    "import tensorflow as tf"
   ]
  },
  {
   "cell_type": "markdown",
   "metadata": {},
   "source": [
    "## Load and examine dataset"
   ]
  },
  {
   "cell_type": "code",
   "execution_count": 15,
   "metadata": {},
   "outputs": [
    {
     "name": "stdout",
     "output_type": "stream",
     "text": [
      "Loading data...\n",
      "Loaded train_set, valid_set and test_set.\n"
     ]
    }
   ],
   "source": [
    "\"\"\" Load the dataset\n",
    "Code adapted from http://deeplearning.net/tutorial/code/logistic_sgd.py\n",
    "\n",
    ":type dataset: string\n",
    ":param dataset: the path to the dataset (here MNIST)\n",
    "\"\"\"\n",
    "# Download the MNIST dataset if it is not present\n",
    "dataset = \"mnist.pkl.gz\"\n",
    "\n",
    "data_dir, data_file = os.path.split(dataset)\n",
    "if data_dir == \"\" and not os.path.isfile(dataset):\n",
    "    # Check if dataset is in the data directory.\n",
    "    new_path = os.path.join(\n",
    "        os.path.split(__file__)[0],\n",
    "        dataset\n",
    "    )\n",
    "    if os.path.isfile(new_path) or data_file == 'mnist.pkl.gz':\n",
    "        dataset = new_path\n",
    "\n",
    "if (not os.path.isfile(dataset)) and data_file == 'mnist.pkl.gz':\n",
    "    from six.moves import urllib\n",
    "    origin = (\n",
    "        'http://www.iro.umontreal.ca/~lisa/deep/data/mnist/mnist.pkl.gz'\n",
    "    )\n",
    "    print('Downloading data from %s' % origin)\n",
    "    urllib.request.urlretrieve(origin, dataset)\n",
    "\n",
    "print('Loading data...')\n",
    "\n",
    "# Load the dataset\n",
    "with gzip.open(dataset, 'rb') as f:\n",
    "    try:\n",
    "        train_set, valid_set, test_set = pickle.load(f, encoding='latin1')\n",
    "    except:\n",
    "        train_set, valid_set, test_set = pickle.load(f)\n",
    "\n",
    "print('Loaded train_set, valid_set and test_set.')"
   ]
  },
  {
   "cell_type": "code",
   "execution_count": 16,
   "metadata": {},
   "outputs": [
    {
     "name": "stdout",
     "output_type": "stream",
     "text": [
      "(50000, 784)\n",
      "(50000,)\n",
      "(50000, 28, 28, 1)\n",
      "(50000,)\n"
     ]
    }
   ],
   "source": [
    "print(train_set[0].shape)\n",
    "print(train_set[1].shape)\n",
    "\n",
    "# because we use lenet, we need to reshape the data to [batch, height, width, channel]\n",
    "train_set = (train_set[0].reshape((-1, 28, 28, 1)), train_set[1])\n",
    "valid_set = (valid_set[0].reshape((-1, 28, 28, 1)), valid_set[1])\n",
    "test_set = (test_set[0].reshape((-1, 28, 28, 1)), test_set[1])\n",
    "\n",
    "print(train_set[0].shape)\n",
    "print(train_set[1].shape)"
   ]
  },
  {
   "cell_type": "code",
   "execution_count": 17,
   "metadata": {},
   "outputs": [
    {
     "data": {
      "image/png": "[encoded data removed]",
      "text/plain": [
       "<Figure size 640x480 with 1 Axes>"
      ]
     },
     "metadata": {},
     "output_type": "display_data"
    }
   ],
   "source": [
    "# plot a random sample\n",
    "import matplotlib.pyplot as plt\n",
    "plt.imshow(train_set[0][:][:][0], cmap='gray')\n",
    "plt.show()"
   ]
  },
  {
   "cell_type": "code",
   "execution_count": 18,
   "metadata": {},
   "outputs": [],
   "source": [
    "batch_size = 64\n",
    "\n",
    "train_set = (train_set[0].astype('float32'), train_set[1].astype('int64'))\n",
    "valid_set = (valid_set[0].astype('float32'), valid_set[1].astype('int64'))\n",
    "test_set = (test_set[0].astype('float32'), test_set[1].astype('int64'))\n",
    "\n",
    "train_dataset = tf.data.Dataset.from_tensor_slices(train_set)\n",
    "train_loader = train_dataset.shuffle(buffer_size=10000).batch(batch_size)\n",
    "valid_dataset = tf.data.Dataset.from_tensor_slices(valid_set)\n",
    "valid_loader = valid_dataset.batch(batch_size)\n",
    "test_dataset = tf.data.Dataset.from_tensor_slices(test_set)\n",
    "test_loader = test_dataset.batch(batch_size)\n"
   ]
  },
  {
   "cell_type": "code",
   "execution_count": 19,
   "metadata": {},
   "outputs": [
    {
     "name": "stdout",
     "output_type": "stream",
     "text": [
      "Epoch 1/10\n"
     ]
    },
    {
     "name": "stderr",
     "output_type": "stream",
     "text": [
      "2023-04-30 15:08:13.518326: I tensorflow/core/common_runtime/executor.cc:1197] [/device:CPU:0] (DEBUG INFO) Executor start aborting (this does not indicate an error and you can ignore this message): INVALID_ARGUMENT: You must feed a value for placeholder tensor 'Placeholder/_0' with dtype float and shape [50000,28,28,1]\n",
      "\t [[{{node Placeholder/_0}}]]\n",
      "2023-04-30 15:08:13.518643: I tensorflow/core/common_runtime/executor.cc:1197] [/device:CPU:0] (DEBUG INFO) Executor start aborting (this does not indicate an error and you can ignore this message): INVALID_ARGUMENT: You must feed a value for placeholder tensor 'Placeholder/_1' with dtype int64 and shape [50000]\n",
      "\t [[{{node Placeholder/_1}}]]\n"
     ]
    },
    {
     "name": "stdout",
     "output_type": "stream",
     "text": [
      "779/782 [============================>.] - ETA: 0s - loss: 0.1919 - sparse_categorical_accuracy: 0.9429"
     ]
    },
    {
     "name": "stderr",
     "output_type": "stream",
     "text": [
      "2023-04-30 15:08:27.890981: I tensorflow/core/common_runtime/executor.cc:1197] [/device:CPU:0] (DEBUG INFO) Executor start aborting (this does not indicate an error and you can ignore this message): INVALID_ARGUMENT: You must feed a value for placeholder tensor 'Placeholder/_1' with dtype int64 and shape [10000]\n",
      "\t [[{{node Placeholder/_1}}]]\n"
     ]
    },
    {
     "name": "stdout",
     "output_type": "stream",
     "text": [
      "782/782 [==============================] - 16s 20ms/step - loss: 0.1916 - sparse_categorical_accuracy: 0.9430 - val_loss: 0.1076 - val_sparse_categorical_accuracy: 0.9632\n",
      "Epoch 2/10\n",
      "782/782 [==============================] - 13s 17ms/step - loss: 0.0624 - sparse_categorical_accuracy: 0.9806 - val_loss: 0.1169 - val_sparse_categorical_accuracy: 0.9632\n",
      "Epoch 3/10\n",
      "782/782 [==============================] - 12s 16ms/step - loss: 0.0443 - sparse_categorical_accuracy: 0.9870 - val_loss: 0.0495 - val_sparse_categorical_accuracy: 0.9857\n",
      "Epoch 4/10\n",
      "782/782 [==============================] - 14s 18ms/step - loss: 0.0345 - sparse_categorical_accuracy: 0.9892 - val_loss: 0.0859 - val_sparse_categorical_accuracy: 0.9734\n",
      "Epoch 5/10\n",
      "782/782 [==============================] - 14s 18ms/step - loss: 0.0289 - sparse_categorical_accuracy: 0.9912 - val_loss: 0.0440 - val_sparse_categorical_accuracy: 0.9872\n",
      "Epoch 6/10\n",
      "782/782 [==============================] - 13s 17ms/step - loss: 0.0237 - sparse_categorical_accuracy: 0.9929 - val_loss: 0.2303 - val_sparse_categorical_accuracy: 0.9408\n",
      "Epoch 7/10\n",
      "782/782 [==============================] - 14s 18ms/step - loss: 0.0204 - sparse_categorical_accuracy: 0.9934 - val_loss: 0.0504 - val_sparse_categorical_accuracy: 0.9852\n",
      "Epoch 8/10\n",
      "782/782 [==============================] - 16s 21ms/step - loss: 0.0162 - sparse_categorical_accuracy: 0.9953 - val_loss: 0.0420 - val_sparse_categorical_accuracy: 0.9879\n",
      "Epoch 9/10\n",
      "782/782 [==============================] - 19s 25ms/step - loss: 0.0140 - sparse_categorical_accuracy: 0.9956 - val_loss: 0.0424 - val_sparse_categorical_accuracy: 0.9882\n",
      "Epoch 10/10\n",
      "782/782 [==============================] - 16s 21ms/step - loss: 0.0128 - sparse_categorical_accuracy: 0.9961 - val_loss: 0.0457 - val_sparse_categorical_accuracy: 0.9866\n"
     ]
    },
    {
     "data": {
      "text/plain": [
       "<keras.callbacks.History at 0x1673f7fd0>"
      ]
     },
     "execution_count": 19,
     "metadata": {},
     "output_type": "execute_result"
    }
   ],
   "source": [
    "model = tf.keras.models.Sequential([\n",
    "    # conv2d -> relu -> maxpool -> bn\n",
    "    tf.keras.Input(shape=(28, 28, 1)),\n",
    "    tf.keras.layers.Conv2D(6, 5, activation='relu', use_bias=False),\n",
    "    tf.keras.layers.MaxPool2D(2),\n",
    "    tf.keras.layers.BatchNormalization(),\n",
    "\n",
    "    # conv2d -> relu -> maxpool -> bn\n",
    "    tf.keras.layers.Conv2D(16, 5, activation='relu', use_bias=False),\n",
    "    tf.keras.layers.MaxPool2D(2),\n",
    "    tf.keras.layers.BatchNormalization(),\n",
    "\n",
    "    # flatten -> affine -> relu\n",
    "    tf.keras.layers.Flatten(),\n",
    "    tf.keras.layers.Dense(120, activation='relu'),\n",
    "    tf.keras.layers.Dense(84, activation='relu'),\n",
    "\n",
    "    # affine\n",
    "    tf.keras.layers.Dense(10)\n",
    "])\n",
    "\n",
    "model.compile(\n",
    "    optimizer=tf.keras.optimizers.SGD(0.05),\n",
    "    loss=tf.keras.losses.SparseCategoricalCrossentropy(from_logits=True),\n",
    "    metrics=[tf.keras.metrics.SparseCategoricalAccuracy()],\n",
    ")\n",
    "\n",
    "model.fit(\n",
    "    train_loader,\n",
    "    epochs=10,\n",
    "    validation_data=valid_loader,\n",
    ")"
   ]
  },
  {
   "cell_type": "code",
   "execution_count": 20,
   "metadata": {},
   "outputs": [],
   "source": [
    "import json\n",
    "\n",
    "# save the results: train_loss_list, train_acc_list, valid_acc_list\n",
    "\n",
    "train_loss_list = model.history.history['loss']\n",
    "train_acc_list = model.history.history['sparse_categorical_accuracy']\n",
    "valid_acc_list = model.history.history['val_sparse_categorical_accuracy']\n",
    "\n",
    "with open(\"results/tensorflow_lenet.json\", \"w\") as f:\n",
    "    json.dump({\n",
    "        \"train_loss\": train_loss_list,\n",
    "        \"train_acc\": train_acc_list,\n",
    "        \"valid_acc\": valid_acc_list\n",
    "    }, f)"
   ]
  },
  {
   "cell_type": "code",
   "execution_count": null,
   "metadata": {},
   "outputs": [],
   "source": []
  }
 ],
 "metadata": {
  "kernelspec": {
   "display_name": "medoflow",
   "language": "python",
   "name": "python3"
  },
  "language_info": {
   "codemirror_mode": {
    "name": "ipython",
    "version": 3
   },
   "file_extension": ".py",
   "mimetype": "text/x-python",
   "name": "python",
   "nbconvert_exporter": "python",
   "pygments_lexer": "ipython3",
   "version": "3.9.16"
  },
  "orig_nbformat": 4
 },
 "nbformat": 4,
 "nbformat_minor": 2
}
