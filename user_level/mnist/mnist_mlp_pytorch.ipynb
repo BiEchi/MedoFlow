{
 "cells": [
  {
   "cell_type": "code",
   "execution_count": 1,
   "metadata": {},
   "outputs": [],
   "source": [
    "import torch\n",
    "import os\n",
    "import gzip\n",
    "import pickle\n",
    "import time\n",
    "import numpy as np \n",
    "\n",
    "from torchvision import datasets, transforms"
   ]
  },
  {
   "cell_type": "markdown",
   "metadata": {},
   "source": [
    "## Load and examine dataset"
   ]
  },
  {
   "cell_type": "code",
   "execution_count": 2,
   "metadata": {},
   "outputs": [
    {
     "name": "stdout",
     "output_type": "stream",
     "text": [
      "Loading data...\n",
      "Loaded train_set, valid_set and test_set.\n"
     ]
    }
   ],
   "source": [
    "\"\"\" Load the dataset\n",
    "Code adapted from http://deeplearning.net/tutorial/code/logistic_sgd.py\n",
    "\n",
    ":type dataset: string\n",
    ":param dataset: the path to the dataset (here MNIST)\n",
    "\"\"\"\n",
    "# Download the MNIST dataset if it is not present\n",
    "dataset = \"mnist.pkl.gz\"\n",
    "\n",
    "data_dir, data_file = os.path.split(dataset)\n",
    "if data_dir == \"\" and not os.path.isfile(dataset):\n",
    "    # Check if dataset is in the data directory.\n",
    "    new_path = os.path.join(\n",
    "        os.path.split(__file__)[0],\n",
    "        dataset\n",
    "    )\n",
    "    if os.path.isfile(new_path) or data_file == 'mnist.pkl.gz':\n",
    "        dataset = new_path\n",
    "\n",
    "if (not os.path.isfile(dataset)) and data_file == 'mnist.pkl.gz':\n",
    "    from six.moves import urllib\n",
    "    origin = (\n",
    "        'http://www.iro.umontreal.ca/~lisa/deep/data/mnist/mnist.pkl.gz'\n",
    "    )\n",
    "    print('Downloading data from %s' % origin)\n",
    "    urllib.request.urlretrieve(origin, dataset)\n",
    "\n",
    "print('Loading data...')\n",
    "\n",
    "# Load the dataset\n",
    "with gzip.open(dataset, 'rb') as f:\n",
    "    try:\n",
    "        train_set, valid_set, test_set = pickle.load(f, encoding='latin1')\n",
    "    except:\n",
    "        train_set, valid_set, test_set = pickle.load(f)\n",
    "# train_set, valid_set, test_set format: tuple(input, target)\n",
    "# input is a numpy.ndarray of 2 dimensions (a matrix), np.float32\n",
    "# where each row corresponds to an example. target is a\n",
    "# numpy.ndarray of 1 dimension (vector), np.int64 that has the same length\n",
    "# as the number of rows in the input. It should give the target\n",
    "# to the example with the same index in the input.\n",
    "print('Loaded train_set, valid_set and test_set.')"
   ]
  },
  {
   "cell_type": "code",
   "execution_count": 3,
   "metadata": {},
   "outputs": [],
   "source": [
    "# Build the CNN model\n",
    "import torch.nn as nn\n",
    "import torch.nn.functional as F\n",
    " \n",
    "class myMLP(nn.Module):\n",
    "    def __init__(self):\n",
    "        super(myMLP, self).__init__()\n",
    "        # affine\n",
    "        self.W1 = nn.Parameter(torch.randn(784, 256))\n",
    "        self.W2 = nn.Parameter(torch.randn(256, 100))\n",
    "        self.W3 = nn.Parameter(torch.randn(100, 10))\n",
    "        \n",
    "        self.b1 = nn.Parameter(torch.randn(256))\n",
    "        self.b2 = nn.Parameter(torch.randn(100))\n",
    "        self.b3 = nn.Parameter(torch.randn(10))\n",
    "        # relu\n",
    "        self.relu = nn.ReLU()\n",
    " \n",
    "    def forward(self, x):\n",
    "        # affine -> relu\n",
    "        x = self.relu(torch.matmul(x, self.W1) + self.b1)\n",
    "        x = self.relu(torch.matmul(x, self.W2) + self.b2)\n",
    "        # affine    \n",
    "        x = torch.matmul(x, self.W3) + self.b3\n",
    "        return x\n"
   ]
  },
  {
   "cell_type": "code",
   "execution_count": 4,
   "metadata": {},
   "outputs": [],
   "source": [
    "batch_size = 64\n",
    "\n",
    "train_set = (torch.from_numpy(train_set[0]).float(), torch.from_numpy(train_set[1]).long())\n",
    "valid_set = (torch.from_numpy(valid_set[0]).float(), torch.from_numpy(valid_set[1]).long())\n",
    "test_set = (torch.from_numpy(test_set[0]).float(), torch.from_numpy(test_set[1]).long())\n",
    "\n",
    "train_dataset = torch.utils.data.TensorDataset(train_set[0], train_set[1])\n",
    "valid_dataset = torch.utils.data.TensorDataset(valid_set[0], valid_set[1])\n",
    "test_dataset = torch.utils.data.TensorDataset(test_set[0], test_set[1])\n",
    " \n",
    "train_loader = torch.utils.data.DataLoader(train_dataset, batch_size=batch_size, shuffle=False)\n",
    "valid_loader = torch.utils.data.DataLoader(valid_dataset, batch_size=batch_size, shuffle=False)\n",
    "test_loader = torch.utils.data.DataLoader(test_dataset, batch_size=batch_size, shuffle=False)"
   ]
  },
  {
   "cell_type": "code",
   "execution_count": 5,
   "metadata": {},
   "outputs": [
    {
     "name": "stdout",
     "output_type": "stream",
     "text": [
      "Epoch 1/20\n",
      "Train accuracy: 0.0734\n",
      "Validation accuracy: 0.0710\n"
     ]
    }
   ],
   "source": [
    "model = myMLP()\n",
    "criterion = nn.CrossEntropyLoss()\n",
    "learning_rate = 1.0e-3\n",
    "n_epochs = 20\n",
    "\n",
    "train_loss_list = []\n",
    "train_acc_list = []\n",
    "valid_acc_list = []\n",
    "optimizer = torch.optim.SGD(model.parameters(), lr=learning_rate)\n",
    "\n",
    "# start time\n",
    "start_time = time.time()\n",
    "\n",
    "for epoch in range(n_epochs):\n",
    "    print('Epoch {}/{}'.format(epoch+1, n_epochs))\n",
    "    \n",
    "    model.eval()\n",
    "    train_correct = 0\n",
    "    train_total = 0 \n",
    "    for data, target in train_loader:\n",
    "        output = model(data)\n",
    "        _, pred = torch.max(output, 1)\n",
    "        train_correct += (pred == target).sum().item()\n",
    "        train_total += target.size(0)\n",
    "    train_acc = train_correct / train_total\n",
    "    train_acc_list.append(train_acc)\n",
    "    print('Train accuracy: {:.4f}'.format(train_acc))\n",
    "    \n",
    "    valid_correct = 0\n",
    "    valid_total = 0\n",
    "    for data, target in valid_loader:\n",
    "        output = model(data)\n",
    "        _, pred = torch.max(output, 1)\n",
    "        valid_correct += (pred == target).sum().item()\n",
    "        valid_total += target.size(0)\n",
    "    \n",
    "    valid_acc = valid_correct / valid_total\n",
    "    valid_acc_list.append(valid_acc)\n",
    "    print('Validation accuracy: {:.4f}'.format(valid_acc))\n",
    "    \n",
    "    model.train()\n",
    "    loss_sum = 0\n",
    "    batch_num = 0\n",
    "    for inputs, labels in train_loader:\n",
    "        outputs = model(inputs)\n",
    "        optimizer.zero_grad()\n",
    "        loss = criterion(outputs, labels)\n",
    "        loss.backward()\n",
    "        optimizer.step()\n",
    "        loss_sum += loss.item()\n",
    "        batch_num += 1\n",
    "    print(\"loss_sum: \", loss_sum, \"batch_num: \", batch_num)\n",
    "    average_loss = loss_sum / batch_num\n",
    "    train_loss_list.append(average_loss)\n",
    "    print('Train loss: {:.4f}'.format(average_loss))\n",
    "    \n",
    "# end time\n",
    "end_time = time.time()\n",
    "print('Total time: {:.2f} minutes'.format((end_time - start_time)/60))"
   ]
  },
  {
   "cell_type": "code",
   "execution_count": null,
   "metadata": {},
   "outputs": [],
   "source": [
    "import json\n",
    "with open(\"results/pytorch_mlp.json\", \"w\") as f:\n",
    "    json.dump({\n",
    "        \"train_loss\": train_loss_list,\n",
    "        \"train_acc\": train_acc_list,\n",
    "        \"valid_acc\": valid_acc_list\n",
    "    }, f)"
   ]
  },
  {
   "cell_type": "code",
   "execution_count": null,
   "metadata": {},
   "outputs": [],
   "source": [
    "def predict(model, dataloader):\n",
    "    \n",
    "    # set the model to evaluation mode\n",
    "    model.eval()\n",
    "    \n",
    "    # make predictions\n",
    "    predictions = []\n",
    "    with torch.no_grad():\n",
    "        for inputs, targets in dataloader:\n",
    "            output = model(inputs)\n",
    "            _, pred = torch.max(output, 1)\n",
    "            predictions.extend(pred.cpu().numpy())\n",
    "    \n",
    "    return predictions\n"
   ]
  },
  {
   "cell_type": "code",
   "execution_count": null,
   "metadata": {},
   "outputs": [
    {
     "ename": "ValueError",
     "evalue": "axes don't match array",
     "output_type": "error",
     "traceback": [
      "\u001b[0;31m---------------------------------------------------------------------------\u001b[0m",
      "\u001b[0;31mValueError\u001b[0m                                Traceback (most recent call last)",
      "Cell \u001b[0;32mIn[9], line 14\u001b[0m\n\u001b[1;32m     12\u001b[0m fig, axs \u001b[39m=\u001b[39m plt\u001b[39m.\u001b[39msubplots(\u001b[39m1\u001b[39m, n_samples, figsize\u001b[39m=\u001b[39m(\u001b[39m30\u001b[39m, \u001b[39m5\u001b[39m))\n\u001b[1;32m     13\u001b[0m \u001b[39mfor\u001b[39;00m i, idx \u001b[39min\u001b[39;00m \u001b[39menumerate\u001b[39m(sample_indices):\n\u001b[0;32m---> 14\u001b[0m     image \u001b[39m=\u001b[39m test_set[\u001b[39m0\u001b[39;49m][idx]\u001b[39m.\u001b[39;49mnumpy()\u001b[39m.\u001b[39;49mtranspose(\u001b[39m1\u001b[39;49m, \u001b[39m2\u001b[39;49m, \u001b[39m0\u001b[39;49m)\n\u001b[1;32m     15\u001b[0m     label \u001b[39m=\u001b[39m test_set[\u001b[39m1\u001b[39m][idx]\u001b[39m.\u001b[39mitem()\n\u001b[1;32m     16\u001b[0m     predicted_label \u001b[39m=\u001b[39m predictions[idx]\n",
      "\u001b[0;31mValueError\u001b[0m: axes don't match array"
     ]
    },
    {
     "data": {
      "image/png": "[encoded data removed]",
      "text/plain": [
       "<Figure size 3000x500 with 10 Axes>"
      ]
     },
     "metadata": {},
     "output_type": "display_data"
    }
   ],
   "source": [
    "import matplotlib.pyplot as plt\n",
    "%matplotlib inline\n",
    "\n",
    "# get some predictions\n",
    "predictions = predict(model, test_loader)\n",
    "\n",
    "# select some random samples\n",
    "n_samples = 10\n",
    "sample_indices = np.random.choice(len(test_set[0]), n_samples)\n",
    "\n",
    "# plot the samples and their predicted labels\n",
    "fig, axs = plt.subplots(1, n_samples, figsize=(30, 5))\n",
    "for i, idx in enumerate(sample_indices):\n",
    "    image = test_set[0][idx].numpy().transpose(1, 2, 0)\n",
    "    label = test_set[1][idx].item()\n",
    "    predicted_label = predictions[idx]\n",
    "    axs[i].imshow(image)\n",
    "    axs[i].set_title(f\"true: {label}, predicted: {predicted_label}\")\n",
    "    axs[i].axis('off')\n",
    "plt.show()\n"
   ]
  },
  {
   "cell_type": "code",
   "execution_count": null,
   "metadata": {},
   "outputs": [],
   "source": []
  }
 ],
 "metadata": {
  "kernelspec": {
   "display_name": "medoflow",
   "language": "python",
   "name": "python3"
  },
  "language_info": {
   "codemirror_mode": {
    "name": "ipython",
    "version": 3
   },
   "file_extension": ".py",
   "mimetype": "text/x-python",
   "name": "python",
   "nbconvert_exporter": "python",
   "pygments_lexer": "ipython3",
   "version": "3.9.16"
  },
  "orig_nbformat": 4
 },
 "nbformat": 4,
 "nbformat_minor": 2
}
